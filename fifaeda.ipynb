{
  "cells": [
    {
      "cell_type": "code",
      "execution_count": null,
      "metadata": {
        "id": "GR5XPfhWgqCn",
        "colab": {
          "base_uri": "https://localhost:8080/",
          "height": 74
        },
        "outputId": "b53ca369-1533-48a6-bdcf-ea1a6ad58e7b"
      },
      "outputs": [
        {
          "output_type": "display_data",
          "data": {
            "text/plain": [
              "<IPython.core.display.HTML object>"
            ],
            "text/html": [
              "\n",
              "     <input type=\"file\" id=\"files-3fcb93e6-d246-43c2-8c06-81dbbff1ac1c\" name=\"files[]\" multiple disabled\n",
              "        style=\"border:none\" />\n",
              "     <output id=\"result-3fcb93e6-d246-43c2-8c06-81dbbff1ac1c\">\n",
              "      Upload widget is only available when the cell has been executed in the\n",
              "      current browser session. Please rerun this cell to enable.\n",
              "      </output>\n",
              "      <script>// Copyright 2017 Google LLC\n",
              "//\n",
              "// Licensed under the Apache License, Version 2.0 (the \"License\");\n",
              "// you may not use this file except in compliance with the License.\n",
              "// You may obtain a copy of the License at\n",
              "//\n",
              "//      http://www.apache.org/licenses/LICENSE-2.0\n",
              "//\n",
              "// Unless required by applicable law or agreed to in writing, software\n",
              "// distributed under the License is distributed on an \"AS IS\" BASIS,\n",
              "// WITHOUT WARRANTIES OR CONDITIONS OF ANY KIND, either express or implied.\n",
              "// See the License for the specific language governing permissions and\n",
              "// limitations under the License.\n",
              "\n",
              "/**\n",
              " * @fileoverview Helpers for google.colab Python module.\n",
              " */\n",
              "(function(scope) {\n",
              "function span(text, styleAttributes = {}) {\n",
              "  const element = document.createElement('span');\n",
              "  element.textContent = text;\n",
              "  for (const key of Object.keys(styleAttributes)) {\n",
              "    element.style[key] = styleAttributes[key];\n",
              "  }\n",
              "  return element;\n",
              "}\n",
              "\n",
              "// Max number of bytes which will be uploaded at a time.\n",
              "const MAX_PAYLOAD_SIZE = 100 * 1024;\n",
              "\n",
              "function _uploadFiles(inputId, outputId) {\n",
              "  const steps = uploadFilesStep(inputId, outputId);\n",
              "  const outputElement = document.getElementById(outputId);\n",
              "  // Cache steps on the outputElement to make it available for the next call\n",
              "  // to uploadFilesContinue from Python.\n",
              "  outputElement.steps = steps;\n",
              "\n",
              "  return _uploadFilesContinue(outputId);\n",
              "}\n",
              "\n",
              "// This is roughly an async generator (not supported in the browser yet),\n",
              "// where there are multiple asynchronous steps and the Python side is going\n",
              "// to poll for completion of each step.\n",
              "// This uses a Promise to block the python side on completion of each step,\n",
              "// then passes the result of the previous step as the input to the next step.\n",
              "function _uploadFilesContinue(outputId) {\n",
              "  const outputElement = document.getElementById(outputId);\n",
              "  const steps = outputElement.steps;\n",
              "\n",
              "  const next = steps.next(outputElement.lastPromiseValue);\n",
              "  return Promise.resolve(next.value.promise).then((value) => {\n",
              "    // Cache the last promise value to make it available to the next\n",
              "    // step of the generator.\n",
              "    outputElement.lastPromiseValue = value;\n",
              "    return next.value.response;\n",
              "  });\n",
              "}\n",
              "\n",
              "/**\n",
              " * Generator function which is called between each async step of the upload\n",
              " * process.\n",
              " * @param {string} inputId Element ID of the input file picker element.\n",
              " * @param {string} outputId Element ID of the output display.\n",
              " * @return {!Iterable<!Object>} Iterable of next steps.\n",
              " */\n",
              "function* uploadFilesStep(inputId, outputId) {\n",
              "  const inputElement = document.getElementById(inputId);\n",
              "  inputElement.disabled = false;\n",
              "\n",
              "  const outputElement = document.getElementById(outputId);\n",
              "  outputElement.innerHTML = '';\n",
              "\n",
              "  const pickedPromise = new Promise((resolve) => {\n",
              "    inputElement.addEventListener('change', (e) => {\n",
              "      resolve(e.target.files);\n",
              "    });\n",
              "  });\n",
              "\n",
              "  const cancel = document.createElement('button');\n",
              "  inputElement.parentElement.appendChild(cancel);\n",
              "  cancel.textContent = 'Cancel upload';\n",
              "  const cancelPromise = new Promise((resolve) => {\n",
              "    cancel.onclick = () => {\n",
              "      resolve(null);\n",
              "    };\n",
              "  });\n",
              "\n",
              "  // Wait for the user to pick the files.\n",
              "  const files = yield {\n",
              "    promise: Promise.race([pickedPromise, cancelPromise]),\n",
              "    response: {\n",
              "      action: 'starting',\n",
              "    }\n",
              "  };\n",
              "\n",
              "  cancel.remove();\n",
              "\n",
              "  // Disable the input element since further picks are not allowed.\n",
              "  inputElement.disabled = true;\n",
              "\n",
              "  if (!files) {\n",
              "    return {\n",
              "      response: {\n",
              "        action: 'complete',\n",
              "      }\n",
              "    };\n",
              "  }\n",
              "\n",
              "  for (const file of files) {\n",
              "    const li = document.createElement('li');\n",
              "    li.append(span(file.name, {fontWeight: 'bold'}));\n",
              "    li.append(span(\n",
              "        `(${file.type || 'n/a'}) - ${file.size} bytes, ` +\n",
              "        `last modified: ${\n",
              "            file.lastModifiedDate ? file.lastModifiedDate.toLocaleDateString() :\n",
              "                                    'n/a'} - `));\n",
              "    const percent = span('0% done');\n",
              "    li.appendChild(percent);\n",
              "\n",
              "    outputElement.appendChild(li);\n",
              "\n",
              "    const fileDataPromise = new Promise((resolve) => {\n",
              "      const reader = new FileReader();\n",
              "      reader.onload = (e) => {\n",
              "        resolve(e.target.result);\n",
              "      };\n",
              "      reader.readAsArrayBuffer(file);\n",
              "    });\n",
              "    // Wait for the data to be ready.\n",
              "    let fileData = yield {\n",
              "      promise: fileDataPromise,\n",
              "      response: {\n",
              "        action: 'continue',\n",
              "      }\n",
              "    };\n",
              "\n",
              "    // Use a chunked sending to avoid message size limits. See b/62115660.\n",
              "    let position = 0;\n",
              "    do {\n",
              "      const length = Math.min(fileData.byteLength - position, MAX_PAYLOAD_SIZE);\n",
              "      const chunk = new Uint8Array(fileData, position, length);\n",
              "      position += length;\n",
              "\n",
              "      const base64 = btoa(String.fromCharCode.apply(null, chunk));\n",
              "      yield {\n",
              "        response: {\n",
              "          action: 'append',\n",
              "          file: file.name,\n",
              "          data: base64,\n",
              "        },\n",
              "      };\n",
              "\n",
              "      let percentDone = fileData.byteLength === 0 ?\n",
              "          100 :\n",
              "          Math.round((position / fileData.byteLength) * 100);\n",
              "      percent.textContent = `${percentDone}% done`;\n",
              "\n",
              "    } while (position < fileData.byteLength);\n",
              "  }\n",
              "\n",
              "  // All done.\n",
              "  yield {\n",
              "    response: {\n",
              "      action: 'complete',\n",
              "    }\n",
              "  };\n",
              "}\n",
              "\n",
              "scope.google = scope.google || {};\n",
              "scope.google.colab = scope.google.colab || {};\n",
              "scope.google.colab._files = {\n",
              "  _uploadFiles,\n",
              "  _uploadFilesContinue,\n",
              "};\n",
              "})(self);\n",
              "</script> "
            ]
          },
          "metadata": {}
        },
        {
          "output_type": "stream",
          "name": "stdout",
          "text": [
            "Saving data.csv to data.csv\n"
          ]
        }
      ],
      "source": [
        "import os\n",
        "\n",
        "import matplotlib.pyplot as plt # visualization\n",
        "import numpy as np # linear algebra\n",
        "import pandas as pd # data processing\n",
        "from google.colab import files\n",
        "uploaded = files.upload()"
      ]
    },
    {
      "cell_type": "markdown",
      "metadata": {
        "id": "k72KeylQg7iB"
      },
      "source": [
        "# Домашнаяя работа: работа с numpy, pandas и matplotlib"
      ]
    },
    {
      "cell_type": "markdown",
      "metadata": {
        "id": "MBzmsjPhhAwK"
      },
      "source": [
        "В этой домашней работе вам предстоит выполнить EDA (Exploratory Data Analysis) датасета с данными о футболистах FIFA.\n",
        "\n",
        "Требования к выполнению домашней работы:\n",
        "- Во всех графиках должны быть подписи через `title`, `legend`, etc.\n",
        "- Убедитесь, что после сохранения ноутбука графики всё ещё видно, если открыть ноутбук заново. Если не видно - напишите в общий чатик, вам помогут либо преподаватели, либо те, кто уже столкнулся с этой проблемой\n",
        "- Можно баловаться с цветами, но в меру. Если в итоге работа станет нечитаемой, то задание не будет засчитано\n",
        "- Если вы сдаете работу в Google Colaboratory, убедитесь, что ваша тетрадка доступна по ссылке. Если в итоге по каким-то причинам тетрадка не будет открываться у преподавателя, задание не будет засчитано"
      ]
    },
    {
      "cell_type": "code",
      "execution_count": null,
      "metadata": {
        "id": "ApjxszvlgqCt"
      },
      "outputs": [],
      "source": [
        "import io\n",
        "df = pd.read_csv(io.BytesIO(uploaded['data.csv']))\n"
      ]
    },
    {
      "cell_type": "code",
      "execution_count": null,
      "metadata": {
        "id": "Wszofj61gqCt",
        "colab": {
          "base_uri": "https://localhost:8080/"
        },
        "outputId": "8f44cd01-9bee-4567-95bf-a296f523acc2"
      },
      "outputs": [
        {
          "output_type": "stream",
          "name": "stdout",
          "text": [
            "<class 'pandas.core.frame.DataFrame'>\n",
            "RangeIndex: 18207 entries, 0 to 18206\n",
            "Data columns (total 88 columns):\n",
            " #   Column                    Non-Null Count  Dtype  \n",
            "---  ------                    --------------  -----  \n",
            " 0   ID                        18207 non-null  int64  \n",
            " 1   Name                      18207 non-null  object \n",
            " 2   Age                       18207 non-null  int64  \n",
            " 3   Photo                     18207 non-null  object \n",
            " 4   Nationality               18207 non-null  object \n",
            " 5   Flag                      18207 non-null  object \n",
            " 6   Overall                   18207 non-null  int64  \n",
            " 7   Potential                 18207 non-null  int64  \n",
            " 8   Club                      17966 non-null  object \n",
            " 9   Club Logo                 18207 non-null  object \n",
            " 10  Value                     18207 non-null  object \n",
            " 11  Wage                      18207 non-null  object \n",
            " 12  Special                   18207 non-null  int64  \n",
            " 13  Preferred Foot            18159 non-null  object \n",
            " 14  International Reputation  18159 non-null  float64\n",
            " 15  Weak Foot                 18159 non-null  float64\n",
            " 16  Skill Moves               18159 non-null  float64\n",
            " 17  Work Rate                 18159 non-null  object \n",
            " 18  Body Type                 18159 non-null  object \n",
            " 19  Real Face                 18159 non-null  object \n",
            " 20  Position                  18147 non-null  object \n",
            " 21  Jersey Number             18147 non-null  float64\n",
            " 22  Joined                    16654 non-null  object \n",
            " 23  Loaned From               1264 non-null   object \n",
            " 24  Contract Valid Until      17918 non-null  object \n",
            " 25  Height                    18159 non-null  object \n",
            " 26  Weight                    18159 non-null  object \n",
            " 27  LS                        16122 non-null  object \n",
            " 28  ST                        16122 non-null  object \n",
            " 29  RS                        16122 non-null  object \n",
            " 30  LW                        16122 non-null  object \n",
            " 31  LF                        16122 non-null  object \n",
            " 32  CF                        16122 non-null  object \n",
            " 33  RF                        16122 non-null  object \n",
            " 34  RW                        16122 non-null  object \n",
            " 35  LAM                       16122 non-null  object \n",
            " 36  CAM                       16122 non-null  object \n",
            " 37  RAM                       16122 non-null  object \n",
            " 38  LM                        16122 non-null  object \n",
            " 39  LCM                       16122 non-null  object \n",
            " 40  CM                        16122 non-null  object \n",
            " 41  RCM                       16122 non-null  object \n",
            " 42  RM                        16122 non-null  object \n",
            " 43  LWB                       16122 non-null  object \n",
            " 44  LDM                       16122 non-null  object \n",
            " 45  CDM                       16122 non-null  object \n",
            " 46  RDM                       16122 non-null  object \n",
            " 47  RWB                       16122 non-null  object \n",
            " 48  LB                        16122 non-null  object \n",
            " 49  LCB                       16122 non-null  object \n",
            " 50  CB                        16122 non-null  object \n",
            " 51  RCB                       16122 non-null  object \n",
            " 52  RB                        16122 non-null  object \n",
            " 53  Crossing                  18159 non-null  float64\n",
            " 54  Finishing                 18159 non-null  float64\n",
            " 55  HeadingAccuracy           18159 non-null  float64\n",
            " 56  ShortPassing              18159 non-null  float64\n",
            " 57  Volleys                   18159 non-null  float64\n",
            " 58  Dribbling                 18159 non-null  float64\n",
            " 59  Curve                     18159 non-null  float64\n",
            " 60  FKAccuracy                18159 non-null  float64\n",
            " 61  LongPassing               18159 non-null  float64\n",
            " 62  BallControl               18159 non-null  float64\n",
            " 63  Acceleration              18159 non-null  float64\n",
            " 64  SprintSpeed               18159 non-null  float64\n",
            " 65  Agility                   18159 non-null  float64\n",
            " 66  Reactions                 18159 non-null  float64\n",
            " 67  Balance                   18159 non-null  float64\n",
            " 68  ShotPower                 18159 non-null  float64\n",
            " 69  Jumping                   18159 non-null  float64\n",
            " 70  Stamina                   18159 non-null  float64\n",
            " 71  Strength                  18159 non-null  float64\n",
            " 72  LongShots                 18159 non-null  float64\n",
            " 73  Aggression                18159 non-null  float64\n",
            " 74  Interceptions             18159 non-null  float64\n",
            " 75  Positioning               18159 non-null  float64\n",
            " 76  Vision                    18159 non-null  float64\n",
            " 77  Penalties                 18159 non-null  float64\n",
            " 78  Composure                 18159 non-null  float64\n",
            " 79  Marking                   18159 non-null  float64\n",
            " 80  StandingTackle            18159 non-null  float64\n",
            " 81  SlidingTackle             18159 non-null  float64\n",
            " 82  GKDiving                  18159 non-null  float64\n",
            " 83  GKHandling                18159 non-null  float64\n",
            " 84  GKKicking                 18159 non-null  float64\n",
            " 85  GKPositioning             18159 non-null  float64\n",
            " 86  GKReflexes                18159 non-null  float64\n",
            " 87  Release Clause            16643 non-null  object \n",
            "dtypes: float64(38), int64(5), object(45)\n",
            "memory usage: 12.2+ MB\n"
          ]
        }
      ],
      "source": [
        "df.info()"
      ]
    },
    {
      "cell_type": "code",
      "execution_count": null,
      "metadata": {
        "id": "Ux01KPyYgqCu",
        "colab": {
          "base_uri": "https://localhost:8080/"
        },
        "outputId": "e0df4139-6b9f-479d-d66f-34e2f5cd808a"
      },
      "outputs": [
        {
          "output_type": "execute_result",
          "data": {
            "text/plain": [
              "Index(['ID', 'Name', 'Age', 'Photo', 'Nationality', 'Flag', 'Overall',\n",
              "       'Potential', 'Club', 'Club Logo', 'Value', 'Wage', 'Special',\n",
              "       'Preferred Foot', 'International Reputation', 'Weak Foot',\n",
              "       'Skill Moves', 'Work Rate', 'Body Type', 'Real Face', 'Position',\n",
              "       'Jersey Number', 'Joined', 'Loaned From', 'Contract Valid Until',\n",
              "       'Height', 'Weight', 'LS', 'ST', 'RS', 'LW', 'LF', 'CF', 'RF', 'RW',\n",
              "       'LAM', 'CAM', 'RAM', 'LM', 'LCM', 'CM', 'RCM', 'RM', 'LWB', 'LDM',\n",
              "       'CDM', 'RDM', 'RWB', 'LB', 'LCB', 'CB', 'RCB', 'RB', 'Crossing',\n",
              "       'Finishing', 'HeadingAccuracy', 'ShortPassing', 'Volleys', 'Dribbling',\n",
              "       'Curve', 'FKAccuracy', 'LongPassing', 'BallControl', 'Acceleration',\n",
              "       'SprintSpeed', 'Agility', 'Reactions', 'Balance', 'ShotPower',\n",
              "       'Jumping', 'Stamina', 'Strength', 'LongShots', 'Aggression',\n",
              "       'Interceptions', 'Positioning', 'Vision', 'Penalties', 'Composure',\n",
              "       'Marking', 'StandingTackle', 'SlidingTackle', 'GKDiving', 'GKHandling',\n",
              "       'GKKicking', 'GKPositioning', 'GKReflexes', 'Release Clause'],\n",
              "      dtype='object')"
            ]
          },
          "metadata": {},
          "execution_count": 9
        }
      ],
      "source": [
        "df.columns"
      ]
    },
    {
      "cell_type": "code",
      "execution_count": null,
      "metadata": {
        "id": "yJ_0RO2ZgqCu",
        "colab": {
          "base_uri": "https://localhost:8080/",
          "height": 363
        },
        "outputId": "bfa370be-03f7-48b7-9961-a757aad25af4"
      },
      "outputs": [
        {
          "output_type": "execute_result",
          "data": {
            "text/plain": [
              "    Wage\n",
              "0  €565K\n",
              "1  €405K\n",
              "2  €290K\n",
              "3  €260K\n",
              "4  €355K\n",
              "5  €340K\n",
              "6  €420K\n",
              "7  €455K\n",
              "8  €380K\n",
              "9   €94K"
            ],
            "text/html": [
              "\n",
              "  <div id=\"df-98e5a5c5-4eb3-4a3e-ac73-677c4c805eb0\">\n",
              "    <div class=\"colab-df-container\">\n",
              "      <div>\n",
              "<style scoped>\n",
              "    .dataframe tbody tr th:only-of-type {\n",
              "        vertical-align: middle;\n",
              "    }\n",
              "\n",
              "    .dataframe tbody tr th {\n",
              "        vertical-align: top;\n",
              "    }\n",
              "\n",
              "    .dataframe thead th {\n",
              "        text-align: right;\n",
              "    }\n",
              "</style>\n",
              "<table border=\"1\" class=\"dataframe\">\n",
              "  <thead>\n",
              "    <tr style=\"text-align: right;\">\n",
              "      <th></th>\n",
              "      <th>Wage</th>\n",
              "    </tr>\n",
              "  </thead>\n",
              "  <tbody>\n",
              "    <tr>\n",
              "      <th>0</th>\n",
              "      <td>€565K</td>\n",
              "    </tr>\n",
              "    <tr>\n",
              "      <th>1</th>\n",
              "      <td>€405K</td>\n",
              "    </tr>\n",
              "    <tr>\n",
              "      <th>2</th>\n",
              "      <td>€290K</td>\n",
              "    </tr>\n",
              "    <tr>\n",
              "      <th>3</th>\n",
              "      <td>€260K</td>\n",
              "    </tr>\n",
              "    <tr>\n",
              "      <th>4</th>\n",
              "      <td>€355K</td>\n",
              "    </tr>\n",
              "    <tr>\n",
              "      <th>5</th>\n",
              "      <td>€340K</td>\n",
              "    </tr>\n",
              "    <tr>\n",
              "      <th>6</th>\n",
              "      <td>€420K</td>\n",
              "    </tr>\n",
              "    <tr>\n",
              "      <th>7</th>\n",
              "      <td>€455K</td>\n",
              "    </tr>\n",
              "    <tr>\n",
              "      <th>8</th>\n",
              "      <td>€380K</td>\n",
              "    </tr>\n",
              "    <tr>\n",
              "      <th>9</th>\n",
              "      <td>€94K</td>\n",
              "    </tr>\n",
              "  </tbody>\n",
              "</table>\n",
              "</div>\n",
              "      <button class=\"colab-df-convert\" onclick=\"convertToInteractive('df-98e5a5c5-4eb3-4a3e-ac73-677c4c805eb0')\"\n",
              "              title=\"Convert this dataframe to an interactive table.\"\n",
              "              style=\"display:none;\">\n",
              "        \n",
              "  <svg xmlns=\"http://www.w3.org/2000/svg\" height=\"24px\"viewBox=\"0 0 24 24\"\n",
              "       width=\"24px\">\n",
              "    <path d=\"M0 0h24v24H0V0z\" fill=\"none\"/>\n",
              "    <path d=\"M18.56 5.44l.94 2.06.94-2.06 2.06-.94-2.06-.94-.94-2.06-.94 2.06-2.06.94zm-11 1L8.5 8.5l.94-2.06 2.06-.94-2.06-.94L8.5 2.5l-.94 2.06-2.06.94zm10 10l.94 2.06.94-2.06 2.06-.94-2.06-.94-.94-2.06-.94 2.06-2.06.94z\"/><path d=\"M17.41 7.96l-1.37-1.37c-.4-.4-.92-.59-1.43-.59-.52 0-1.04.2-1.43.59L10.3 9.45l-7.72 7.72c-.78.78-.78 2.05 0 2.83L4 21.41c.39.39.9.59 1.41.59.51 0 1.02-.2 1.41-.59l7.78-7.78 2.81-2.81c.8-.78.8-2.07 0-2.86zM5.41 20L4 18.59l7.72-7.72 1.47 1.35L5.41 20z\"/>\n",
              "  </svg>\n",
              "      </button>\n",
              "      \n",
              "  <style>\n",
              "    .colab-df-container {\n",
              "      display:flex;\n",
              "      flex-wrap:wrap;\n",
              "      gap: 12px;\n",
              "    }\n",
              "\n",
              "    .colab-df-convert {\n",
              "      background-color: #E8F0FE;\n",
              "      border: none;\n",
              "      border-radius: 50%;\n",
              "      cursor: pointer;\n",
              "      display: none;\n",
              "      fill: #1967D2;\n",
              "      height: 32px;\n",
              "      padding: 0 0 0 0;\n",
              "      width: 32px;\n",
              "    }\n",
              "\n",
              "    .colab-df-convert:hover {\n",
              "      background-color: #E2EBFA;\n",
              "      box-shadow: 0px 1px 2px rgba(60, 64, 67, 0.3), 0px 1px 3px 1px rgba(60, 64, 67, 0.15);\n",
              "      fill: #174EA6;\n",
              "    }\n",
              "\n",
              "    [theme=dark] .colab-df-convert {\n",
              "      background-color: #3B4455;\n",
              "      fill: #D2E3FC;\n",
              "    }\n",
              "\n",
              "    [theme=dark] .colab-df-convert:hover {\n",
              "      background-color: #434B5C;\n",
              "      box-shadow: 0px 1px 3px 1px rgba(0, 0, 0, 0.15);\n",
              "      filter: drop-shadow(0px 1px 2px rgba(0, 0, 0, 0.3));\n",
              "      fill: #FFFFFF;\n",
              "    }\n",
              "  </style>\n",
              "\n",
              "      <script>\n",
              "        const buttonEl =\n",
              "          document.querySelector('#df-98e5a5c5-4eb3-4a3e-ac73-677c4c805eb0 button.colab-df-convert');\n",
              "        buttonEl.style.display =\n",
              "          google.colab.kernel.accessAllowed ? 'block' : 'none';\n",
              "\n",
              "        async function convertToInteractive(key) {\n",
              "          const element = document.querySelector('#df-98e5a5c5-4eb3-4a3e-ac73-677c4c805eb0');\n",
              "          const dataTable =\n",
              "            await google.colab.kernel.invokeFunction('convertToInteractive',\n",
              "                                                     [key], {});\n",
              "          if (!dataTable) return;\n",
              "\n",
              "          const docLinkHtml = 'Like what you see? Visit the ' +\n",
              "            '<a target=\"_blank\" href=https://colab.research.google.com/notebooks/data_table.ipynb>data table notebook</a>'\n",
              "            + ' to learn more about interactive tables.';\n",
              "          element.innerHTML = '';\n",
              "          dataTable['output_type'] = 'display_data';\n",
              "          await google.colab.output.renderOutput(dataTable, element);\n",
              "          const docLink = document.createElement('div');\n",
              "          docLink.innerHTML = docLinkHtml;\n",
              "          element.appendChild(docLink);\n",
              "        }\n",
              "      </script>\n",
              "    </div>\n",
              "  </div>\n",
              "  "
            ]
          },
          "metadata": {},
          "execution_count": 10
        }
      ],
      "source": [
        "df[['Wage']].head(10)"
      ]
    },
    {
      "cell_type": "markdown",
      "metadata": {
        "id": "Efcps29rgqCv"
      },
      "source": [
        "# Работа с датафреймом"
      ]
    },
    {
      "cell_type": "markdown",
      "metadata": {
        "id": "O2m9UZ-b0kXY"
      },
      "source": [
        "Заполните пропуски:\n",
        "\n",
        "1. В датасете `88` переменных \n",
        "2. Из них числовых `43`"
      ]
    },
    {
      "cell_type": "markdown",
      "metadata": {
        "id": "5-SEMD2WgqCv"
      },
      "source": [
        "# Работа с графикой"
      ]
    },
    {
      "cell_type": "markdown",
      "metadata": {
        "id": "Xyy-OWO90vQ0"
      },
      "source": [
        "3. Изучите распределение возрастов с помощью колонки Age [px.histogram](https://plotly.com/python/histograms/)\n",
        "4. Изучите [более продвинутые методы](https://plotly.com/python/distplot/) визуализации распределений "
      ]
    },
    {
      "cell_type": "code",
      "execution_count": null,
      "metadata": {
        "id": "NqXKVa2hgqCw",
        "colab": {
          "base_uri": "https://localhost:8080/",
          "height": 295
        },
        "outputId": "c9c6cdc0-2484-495f-e6bf-2597acfd4f52"
      },
      "outputs": [
        {
          "output_type": "display_data",
          "data": {
            "text/plain": [
              "<Figure size 432x288 with 1 Axes>"
            ],
            "image/png": "[encoded data removed]"
          },
          "metadata": {
            "needs_background": "light"
          }
        }
      ],
      "source": [
        "b=np.zeros(len(df['Age']))\n",
        "for i in range(len(df['Age'])):\n",
        "    b[i]=df.loc[i,'Age']\n",
        "plt.xlabel('Возраст')\n",
        "plt.ylabel('Количество игроков')\n",
        "plt.title('Количество игроков по возрасту')\n",
        "plt.grid(True)\n",
        "plt.hist(b)\n",
        "plt.show()"
      ]
    },
    {
      "cell_type": "markdown",
      "metadata": {
        "id": "5CCNdEXTgqCx"
      },
      "source": [
        "5. Найдите колонку, показывающую, является ли футболист левой или правшой\n",
        "6. Визуализируйте соотношенеие между левшами и правшами (считаем, что признак \"левша\"/\"правша\" определяет предпочтительную ногу для ударов"
      ]
    },
    {
      "cell_type": "code",
      "execution_count": null,
      "metadata": {
        "id": "z3Tgao8dgqCx",
        "colab": {
          "base_uri": "https://localhost:8080/",
          "height": 295
        },
        "outputId": "a6c7db36-232f-466b-8544-8389f8dcd64e"
      },
      "outputs": [
        {
          "output_type": "display_data",
          "data": {
            "text/plain": [
              "<Figure size 432x288 with 1 Axes>"
            ],
            "image/png": "[encoded data removed]"
          },
          "metadata": {
            "needs_background": "light"
          }
        }
      ],
      "source": [
        "b=np.array(df['Preferred Foot'])\n",
        "plt.ylabel('количество')\n",
        "plt.xlabel('ведущая нога')\n",
        "plt.title('соотношение между левшами и правшами')\n",
        "plt.hist((b[b=='Right']),label='Right')\n",
        "plt.hist((b[b=='Left']),label='Left')\n",
        "plt.show()"
      ]
    },
    {
      "cell_type": "markdown",
      "metadata": {
        "id": "Hk2m1UvdgqCx"
      },
      "source": [
        "7. Визуализируйте Международный Рейтинг футболистов (International Reputation)\n",
        "8. Ассоциирован ли он с национальностью? С футбольным клубом? \n",
        "\n",
        "![Игроки](Players.png \"Title\")"
      ]
    },
    {
      "cell_type": "code",
      "execution_count": null,
      "metadata": {
        "id": "eWbF6D1VgqCy"
      },
      "outputs": [],
      "source": [
        "# ну сами понимаете..."
      ]
    },
    {
      "cell_type": "markdown",
      "metadata": {
        "id": "YKU-ZWZegqCy"
      },
      "source": [
        "9. Есть ли зависимость между потенциалом (Potential) и Международным Рейтингом футболистов (International Reputation)? Визуализируте её\n",
        "10. Влияет ли на потенциал игровая нога? Почему так может случиться? (картинка в тему)\n",
        "\n",
        "![Коазуация или корреляция?](causuation.png \"???\")"
      ]
    },
    {
      "cell_type": "code",
      "execution_count": null,
      "metadata": {
        "id": "X0w1KoQHgqCy"
      },
      "outputs": [],
      "source": [
        "# 🤔 угадайте что"
      ]
    },
    {
      "cell_type": "markdown",
      "metadata": {
        "id": "3O-cYi5QgqCz"
      },
      "source": [
        "Теперь пройдёмся по показателям игроков...\n",
        "\n",
        "11. Есть ли зависимость между **выносливостью** игрока (Stamina) и его **силой** (Strength)? Какая? Точно ли это зависимость? \n"
      ]
    },
    {
      "cell_type": "code",
      "execution_count": null,
      "metadata": {
        "id": "4AcowV3n_MOi"
      },
      "outputs": [],
      "source": [
        "# ..."
      ]
    },
    {
      "cell_type": "markdown",
      "metadata": {
        "id": "IUpYGkUjgqCz"
      },
      "source": [
        "12. Зависит ли **стоимость** игрока (Value) от его \"**финтов**\" (Skill Moves)?"
      ]
    },
    {
      "cell_type": "code",
      "execution_count": null,
      "metadata": {
        "id": "l9gU30aG_pQj"
      },
      "outputs": [],
      "source": [
        "# ..."
      ]
    },
    {
      "cell_type": "markdown",
      "metadata": {
        "id": "Z86xoTBbgqCz"
      },
      "source": [
        "13. Покажите распределения основных характеристик игроков: **рост**, **вес**, **возраст** по **позициям** (Position), сделайте выводы"
      ]
    },
    {
      "cell_type": "code",
      "execution_count": null,
      "metadata": {
        "id": "IWSahLH8gqC0"
      },
      "outputs": [],
      "source": [
        "# ... "
      ]
    },
    {
      "cell_type": "markdown",
      "metadata": {
        "id": "8MoZN8u4gqC0"
      },
      "source": [
        "14. Есть ли зависимость **скорости** (SprintSpeed) от **веса** и **роста**? От **национальности**?"
      ]
    },
    {
      "cell_type": "code",
      "execution_count": null,
      "metadata": {
        "id": "5r3nng7ugqC0"
      },
      "outputs": [],
      "source": [
        "# сбда писатб"
      ]
    },
    {
      "cell_type": "markdown",
      "metadata": {
        "id": "LztFX8XTgqC0"
      },
      "source": [
        "15. Под какими номерами чаще всего играют нападающие? Визуализируйте частотность"
      ]
    },
    {
      "cell_type": "code",
      "execution_count": null,
      "metadata": {
        "id": "FPbaBT7VgqC0"
      },
      "outputs": [],
      "source": [
        "# давай-давай "
      ]
    },
    {
      "cell_type": "markdown",
      "metadata": {
        "id": "dSKScz4igqC1"
      },
      "source": [
        "16. Есть ли за зависимость **силы удара** (ShotPower) от **ведущей ноги**? от **агрессивности** (Aggression)? \n"
      ]
    },
    {
      "cell_type": "code",
      "execution_count": null,
      "metadata": {
        "id": "ULmhF6tHgqC1"
      },
      "outputs": [],
      "source": [
        "# давай-давай, нападай"
      ]
    },
    {
      "cell_type": "markdown",
      "metadata": {
        "id": "RbDyN5-BgqC1"
      },
      "source": [
        "17. Найдите суммарную стоимость игроков в каждом клубе\n",
        "18. Визуализируйте соотношение сумарной стоимости топ 10 клубов"
      ]
    },
    {
      "cell_type": "code",
      "execution_count": null,
      "metadata": {
        "id": "cF3_Pfp1gqC1"
      },
      "outputs": [],
      "source": [
        "# удачи... "
      ]
    },
    {
      "cell_type": "markdown",
      "metadata": {
        "id": "pXRk4OMegqC1"
      },
      "source": [
        "19. Есть ли зависимость между продолжительностью контракта игрока и его стоимостью? "
      ]
    },
    {
      "cell_type": "code",
      "execution_count": null,
      "metadata": {
        "id": "QsN42brogqC2"
      },
      "outputs": [],
      "source": [
        "# ..."
      ]
    },
    {
      "cell_type": "markdown",
      "metadata": {
        "id": "6YCclZfAgqC2"
      },
      "source": [
        "20. В какой год будет больше всего свободных игроков на рынке (исходя из этих данных)? Визуализируйте зависимость"
      ]
    },
    {
      "cell_type": "code",
      "execution_count": null,
      "metadata": {
        "id": "ds2uq-EGgqC2"
      },
      "outputs": [],
      "source": [
        "# ..."
      ]
    },
    {
      "cell_type": "markdown",
      "metadata": {
        "id": "fVGlBn7XgqC2"
      },
      "source": [
        "21. Есть ли зависмость **потенциала** (Potential) игрока от **возраста**?\n",
        "22. Всегда ли молодые игроки обладают большим потенциалом?"
      ]
    },
    {
      "cell_type": "code",
      "execution_count": null,
      "metadata": {
        "id": "NJqW0SVwgqC2"
      },
      "outputs": [],
      "source": [
        "# ..."
      ]
    },
    {
      "cell_type": "markdown",
      "metadata": {
        "id": "zU3VlX02gqC2"
      },
      "source": [
        "23. Есть ли зависимость **рейтинга** игрока (Overall) от **возраста**?\n",
        "24. Когда у игроков \"пик\" карьеры?\n",
        "25. Игроков какого возраста больше всего с рейтингом 90+?"
      ]
    },
    {
      "cell_type": "code",
      "execution_count": null,
      "metadata": {
        "id": "qrRid_s6gqC2"
      },
      "outputs": [],
      "source": [
        "# ..."
      ]
    },
    {
      "cell_type": "markdown",
      "metadata": {
        "id": "SsX5u2ARgqC2"
      },
      "source": [
        "26. Насколько средняя зарплата (Wage) игроков с рейтингом (Overall) 90+ больше средней зарплаты с рейтингом [80 - 90]? Визуализируйте возможную зависимость"
      ]
    },
    {
      "cell_type": "code",
      "execution_count": null,
      "metadata": {
        "id": "WRpXhV91gqC3"
      },
      "outputs": [],
      "source": [
        "# ..."
      ]
    }
  ],
  "metadata": {
    "colab": {
      "collapsed_sections": [
        "pXRk4OMegqC1",
        "6YCclZfAgqC2",
        "fVGlBn7XgqC2",
        "zU3VlX02gqC2",
        "SsX5u2ARgqC2"
      ],
      "provenance": [],
      "toc_visible": true
    },
    "kernelspec": {
      "display_name": "Python 3.9.6 64-bit",
      "language": "python",
      "name": "python3"
    },
    "language_info": {
      "codemirror_mode": {
        "name": "ipython",
        "version": 3
      },
      "file_extension": ".py",
      "mimetype": "text/x-python",
      "name": "python",
      "nbconvert_exporter": "python",
      "pygments_lexer": "ipython3",
      "version": "3.9.6"
    },
    "orig_nbformat": 4,
    "vscode": {
      "interpreter": {
        "hash": "31f2aee4e71d21fbe5cf8b01ff0e069b9275f58929596ceb00d14d90e3e16cd6"
      }
    }
  },
  "nbformat": 4,
  "nbformat_minor": 0
}